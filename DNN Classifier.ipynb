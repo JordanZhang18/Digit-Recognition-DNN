{
 "cells": [
  {
   "cell_type": "code",
   "execution_count": 57,
   "metadata": {
    "_cell_guid": "b1076dfc-b9ad-4769-8c92-a6c4dae69d19",
    "_uuid": "8f2839f25d086af736a60e9eeb907d3b93b6e0e5"
   },
   "outputs": [
    {
     "name": "stdout",
     "output_type": "stream",
     "text": [
      "/kaggle/input/digit-recognizer/train.csv\n",
      "/kaggle/input/digit-recognizer/test.csv\n",
      "/kaggle/input/digit-recognizer/sample_submission.csv\n"
     ]
    }
   ],
   "source": [
    "# This Python 3 environment comes with many helpful analytics libraries installed\n",
    "# It is defined by the kaggle/python Docker image: https://github.com/kaggle/docker-python\n",
    "# For example, here's several helpful packages to load\n",
    "\n",
    "import numpy as np # linear algebra\n",
    "import pandas as pd # data processing, CSV file I/O (e.g. pd.read_csv)\n",
    "\n",
    "# Input data files are available in the read-only \"../input/\" directory\n",
    "# For example, running this (by clicking run or pressing Shift+Enter) will list all files under the input directory\n",
    "import matplotlib.pyplot as plt\n",
    "import os\n",
    "for dirname, _, filenames in os.walk('/kaggle/input'):\n",
    "    for filename in filenames:\n",
    "        print(os.path.join(dirname, filename))\n",
    "\n",
    "# You can write up to 5GB to the current directory (/kaggle/working/) that gets preserved as output when you create a version using \"Save & Run All\" \n",
    "# You can also write temporary files to /kaggle/temp/, but they won't be saved outside of the current session"
   ]
  },
  {
   "cell_type": "code",
   "execution_count": 58,
   "metadata": {
    "_cell_guid": "79c7e3d0-c299-4dcb-8224-4455121ee9b0",
    "_uuid": "d629ff2d2480ee46fbb7e2d37f6b5fab8052498a"
   },
   "outputs": [],
   "source": [
    "from sklearn.ensemble import RandomForestClassifier\n",
    "import tensorflow as tf\n",
    "from sklearn.decomposition import PCA\n",
    "train = pd.read_csv('../input/digit-recognizer/train.csv')\n",
    "test  = pd.read_csv('../input/digit-recognizer/test.csv')\n",
    "label = train[\"label\"]\n",
    "train = train.drop(\"label\",1)"
   ]
  },
  {
   "cell_type": "code",
   "execution_count": 59,
   "metadata": {},
   "outputs": [
    {
     "data": {
      "text/html": [
       "<div>\n",
       "<style scoped>\n",
       "    .dataframe tbody tr th:only-of-type {\n",
       "        vertical-align: middle;\n",
       "    }\n",
       "\n",
       "    .dataframe tbody tr th {\n",
       "        vertical-align: top;\n",
       "    }\n",
       "\n",
       "    .dataframe thead th {\n",
       "        text-align: right;\n",
       "    }\n",
       "</style>\n",
       "<table border=\"1\" class=\"dataframe\">\n",
       "  <thead>\n",
       "    <tr style=\"text-align: right;\">\n",
       "      <th></th>\n",
       "      <th>pixel0</th>\n",
       "      <th>pixel1</th>\n",
       "      <th>pixel2</th>\n",
       "      <th>pixel3</th>\n",
       "      <th>pixel4</th>\n",
       "      <th>pixel5</th>\n",
       "      <th>pixel6</th>\n",
       "      <th>pixel7</th>\n",
       "      <th>pixel8</th>\n",
       "      <th>pixel9</th>\n",
       "      <th>...</th>\n",
       "      <th>pixel774</th>\n",
       "      <th>pixel775</th>\n",
       "      <th>pixel776</th>\n",
       "      <th>pixel777</th>\n",
       "      <th>pixel778</th>\n",
       "      <th>pixel779</th>\n",
       "      <th>pixel780</th>\n",
       "      <th>pixel781</th>\n",
       "      <th>pixel782</th>\n",
       "      <th>pixel783</th>\n",
       "    </tr>\n",
       "  </thead>\n",
       "  <tbody>\n",
       "    <tr>\n",
       "      <th>0</th>\n",
       "      <td>0</td>\n",
       "      <td>0</td>\n",
       "      <td>0</td>\n",
       "      <td>0</td>\n",
       "      <td>0</td>\n",
       "      <td>0</td>\n",
       "      <td>0</td>\n",
       "      <td>0</td>\n",
       "      <td>0</td>\n",
       "      <td>0</td>\n",
       "      <td>...</td>\n",
       "      <td>0</td>\n",
       "      <td>0</td>\n",
       "      <td>0</td>\n",
       "      <td>0</td>\n",
       "      <td>0</td>\n",
       "      <td>0</td>\n",
       "      <td>0</td>\n",
       "      <td>0</td>\n",
       "      <td>0</td>\n",
       "      <td>0</td>\n",
       "    </tr>\n",
       "    <tr>\n",
       "      <th>1</th>\n",
       "      <td>0</td>\n",
       "      <td>0</td>\n",
       "      <td>0</td>\n",
       "      <td>0</td>\n",
       "      <td>0</td>\n",
       "      <td>0</td>\n",
       "      <td>0</td>\n",
       "      <td>0</td>\n",
       "      <td>0</td>\n",
       "      <td>0</td>\n",
       "      <td>...</td>\n",
       "      <td>0</td>\n",
       "      <td>0</td>\n",
       "      <td>0</td>\n",
       "      <td>0</td>\n",
       "      <td>0</td>\n",
       "      <td>0</td>\n",
       "      <td>0</td>\n",
       "      <td>0</td>\n",
       "      <td>0</td>\n",
       "      <td>0</td>\n",
       "    </tr>\n",
       "    <tr>\n",
       "      <th>2</th>\n",
       "      <td>0</td>\n",
       "      <td>0</td>\n",
       "      <td>0</td>\n",
       "      <td>0</td>\n",
       "      <td>0</td>\n",
       "      <td>0</td>\n",
       "      <td>0</td>\n",
       "      <td>0</td>\n",
       "      <td>0</td>\n",
       "      <td>0</td>\n",
       "      <td>...</td>\n",
       "      <td>0</td>\n",
       "      <td>0</td>\n",
       "      <td>0</td>\n",
       "      <td>0</td>\n",
       "      <td>0</td>\n",
       "      <td>0</td>\n",
       "      <td>0</td>\n",
       "      <td>0</td>\n",
       "      <td>0</td>\n",
       "      <td>0</td>\n",
       "    </tr>\n",
       "    <tr>\n",
       "      <th>3</th>\n",
       "      <td>0</td>\n",
       "      <td>0</td>\n",
       "      <td>0</td>\n",
       "      <td>0</td>\n",
       "      <td>0</td>\n",
       "      <td>0</td>\n",
       "      <td>0</td>\n",
       "      <td>0</td>\n",
       "      <td>0</td>\n",
       "      <td>0</td>\n",
       "      <td>...</td>\n",
       "      <td>0</td>\n",
       "      <td>0</td>\n",
       "      <td>0</td>\n",
       "      <td>0</td>\n",
       "      <td>0</td>\n",
       "      <td>0</td>\n",
       "      <td>0</td>\n",
       "      <td>0</td>\n",
       "      <td>0</td>\n",
       "      <td>0</td>\n",
       "    </tr>\n",
       "    <tr>\n",
       "      <th>4</th>\n",
       "      <td>0</td>\n",
       "      <td>0</td>\n",
       "      <td>0</td>\n",
       "      <td>0</td>\n",
       "      <td>0</td>\n",
       "      <td>0</td>\n",
       "      <td>0</td>\n",
       "      <td>0</td>\n",
       "      <td>0</td>\n",
       "      <td>0</td>\n",
       "      <td>...</td>\n",
       "      <td>0</td>\n",
       "      <td>0</td>\n",
       "      <td>0</td>\n",
       "      <td>0</td>\n",
       "      <td>0</td>\n",
       "      <td>0</td>\n",
       "      <td>0</td>\n",
       "      <td>0</td>\n",
       "      <td>0</td>\n",
       "      <td>0</td>\n",
       "    </tr>\n",
       "  </tbody>\n",
       "</table>\n",
       "<p>5 rows × 784 columns</p>\n",
       "</div>"
      ],
      "text/plain": [
       "   pixel0  pixel1  pixel2  pixel3  pixel4  pixel5  pixel6  pixel7  pixel8  \\\n",
       "0       0       0       0       0       0       0       0       0       0   \n",
       "1       0       0       0       0       0       0       0       0       0   \n",
       "2       0       0       0       0       0       0       0       0       0   \n",
       "3       0       0       0       0       0       0       0       0       0   \n",
       "4       0       0       0       0       0       0       0       0       0   \n",
       "\n",
       "   pixel9  ...  pixel774  pixel775  pixel776  pixel777  pixel778  pixel779  \\\n",
       "0       0  ...         0         0         0         0         0         0   \n",
       "1       0  ...         0         0         0         0         0         0   \n",
       "2       0  ...         0         0         0         0         0         0   \n",
       "3       0  ...         0         0         0         0         0         0   \n",
       "4       0  ...         0         0         0         0         0         0   \n",
       "\n",
       "   pixel780  pixel781  pixel782  pixel783  \n",
       "0         0         0         0         0  \n",
       "1         0         0         0         0  \n",
       "2         0         0         0         0  \n",
       "3         0         0         0         0  \n",
       "4         0         0         0         0  \n",
       "\n",
       "[5 rows x 784 columns]"
      ]
     },
     "execution_count": 59,
     "metadata": {},
     "output_type": "execute_result"
    }
   ],
   "source": [
    "train.head()"
   ]
  },
  {
   "cell_type": "code",
   "execution_count": 60,
   "metadata": {},
   "outputs": [
    {
     "data": {
      "image/png": "[encoded data removed]",
      "text/plain": [
       "<Figure size 432x288 with 25 Axes>"
      ]
     },
     "metadata": {
      "needs_background": "light"
     },
     "output_type": "display_data"
    }
   ],
   "source": [
    "# show some of the numbers\n",
    "plt.figure()\n",
    "for i in range(0,25):\n",
    "    plt.subplot(5,5,i+1)\n",
    "    grid_data = train.iloc[[i]].to_numpy().reshape(28,28)  # reshape from 1d to 2d pixel array\n",
    "    plt.imshow(grid_data, interpolation = \"none\", cmap = \"bone_r\")\n"
   ]
  },
  {
   "cell_type": "code",
   "execution_count": 61,
   "metadata": {},
   "outputs": [
    {
     "name": "stdout",
     "output_type": "stream",
     "text": [
      "1    4684\n",
      "7    4401\n",
      "3    4351\n",
      "9    4188\n",
      "2    4177\n",
      "6    4137\n",
      "0    4132\n",
      "4    4072\n",
      "8    4063\n",
      "5    3795\n",
      "Name: label, dtype: int64\n"
     ]
    }
   ],
   "source": [
    "#see data distribution\n",
    "print(label.value_counts())"
   ]
  },
  {
   "cell_type": "code",
   "execution_count": 62,
   "metadata": {},
   "outputs": [],
   "source": [
    "from datetime import datetime\n",
    "from tensorflow import keras\n",
    "from sklearn.preprocessing import StandardScaler\n",
    "#scale training and test set\n",
    "ss=StandardScaler()\n",
    "ss_train=ss.fit_transform(train)\n",
    "ss_test=ss.transform(test)"
   ]
  },
  {
   "cell_type": "code",
   "execution_count": 63,
   "metadata": {},
   "outputs": [],
   "source": [
    "label=label.values"
   ]
  },
  {
   "cell_type": "code",
   "execution_count": 64,
   "metadata": {},
   "outputs": [
    {
     "name": "stdout",
     "output_type": "stream",
     "text": [
      "Train on 42000 samples\n",
      "Epoch 1/5\n",
      "42000/42000 [==============================] - 4s 85us/sample - loss: 1.5677 - accuracy: 0.8997\n",
      "Epoch 2/5\n",
      "42000/42000 [==============================] - 3s 72us/sample - loss: 1.5170 - accuracy: 0.9452\n",
      "Epoch 3/5\n",
      "42000/42000 [==============================] - 3s 72us/sample - loss: 1.5081 - accuracy: 0.9534\n",
      "Epoch 4/5\n",
      "42000/42000 [==============================] - 3s 71us/sample - loss: 1.5045 - accuracy: 0.9568\n",
      "Epoch 5/5\n",
      "42000/42000 [==============================] - 3s 70us/sample - loss: 1.5003 - accuracy: 0.9607\n",
      "Time1= 0:00:16.188594\n"
     ]
    }
   ],
   "source": [
    "#Neural Network: 2 hidden layers 40 node each\n",
    "model1 = keras.Sequential([keras.layers.Dense(128, activation='relu'),\n",
    "                           keras.layers.Dense(40, activation='relu'),\n",
    "                           keras.layers.Dense(40, activation='relu'),\n",
    "                           keras.layers.Dense(10, activation='softmax')\n",
    "])\n",
    "model1.compile(optimizer='adam',\n",
    "              loss=tf.keras.losses.SparseCategoricalCrossentropy(from_logits=True),\n",
    "              metrics=['accuracy'])\n",
    "#fit the model and count training time\n",
    "start=datetime.now()\n",
    "model1.fit(ss_train, label, epochs=5)\n",
    "end=datetime.now()\n",
    "time1=end-start\n",
    "print('Time1=',time1)\n"
   ]
  },
  {
   "cell_type": "code",
   "execution_count": 75,
   "metadata": {},
   "outputs": [
    {
     "name": "stdout",
     "output_type": "stream",
     "text": [
      "Train on 42000 samples\n",
      "Epoch 1/5\n",
      "42000/42000 [==============================] - 3s 79us/sample - loss: 1.5826 - accuracy: 0.8866\n",
      "Epoch 2/5\n",
      "42000/42000 [==============================] - 3s 70us/sample - loss: 1.5161 - accuracy: 0.9469\n",
      "Epoch 3/5\n",
      "42000/42000 [==============================] - 3s 70us/sample - loss: 1.5057 - accuracy: 0.9564\n",
      "Epoch 4/5\n",
      "42000/42000 [==============================] - 3s 70us/sample - loss: 1.5005 - accuracy: 0.9609\n",
      "Epoch 5/5\n",
      "42000/42000 [==============================] - 3s 70us/sample - loss: 1.4975 - accuracy: 0.9639\n",
      "Time2= 0:00:15.579537\n"
     ]
    }
   ],
   "source": [
    "#Neural Network: 2 layers 20 node each\n",
    "model2 = keras.Sequential([keras.layers.Dense(128, activation='relu'),\n",
    "                           keras.layers.Dense(20, activation='relu'),\n",
    "                           keras.layers.Dense(20, activation='relu'),\n",
    "                           keras.layers.Dense(10, activation='softmax')\n",
    "])\n",
    "model2.compile(optimizer='adam',\n",
    "              loss=tf.keras.losses.SparseCategoricalCrossentropy(from_logits=True),\n",
    "              metrics=['accuracy'])\n",
    "#fit the model and count training time\n",
    "start=datetime.now()\n",
    "model2.fit(ss_train, label, epochs=5)\n",
    "end=datetime.now()\n",
    "time2=end-start\n",
    "print('Time2=',time2)\n"
   ]
  },
  {
   "cell_type": "code",
   "execution_count": 66,
   "metadata": {},
   "outputs": [
    {
     "name": "stdout",
     "output_type": "stream",
     "text": [
      "Train on 42000 samples\n",
      "Epoch 1/5\n",
      "42000/42000 [==============================] - 4s 87us/sample - loss: 1.5795 - accuracy: 0.8873\n",
      "Epoch 2/5\n",
      "42000/42000 [==============================] - 3s 76us/sample - loss: 1.5265 - accuracy: 0.9347\n",
      "Epoch 3/5\n",
      "42000/42000 [==============================] - 3s 76us/sample - loss: 1.5196 - accuracy: 0.9414\n",
      "Epoch 4/5\n",
      "42000/42000 [==============================] - 3s 75us/sample - loss: 1.5141 - accuracy: 0.9467\n",
      "Epoch 5/5\n",
      "42000/42000 [==============================] - 3s 75us/sample - loss: 1.5102 - accuracy: 0.9510\n",
      "Time3= 0:00:16.975116\n"
     ]
    }
   ],
   "source": [
    "#Neural Network: 4 layers 40 node each\n",
    "model3 = keras.Sequential([keras.layers.Dense(128, activation='relu'),\n",
    "                           keras.layers.Dense(40, activation='relu'),\n",
    "                           keras.layers.Dense(40, activation='relu'),\n",
    "                           keras.layers.Dense(40, activation='relu'),\n",
    "                           keras.layers.Dense(40, activation='relu'),\n",
    "                           keras.layers.Dense(10, activation='softmax')\n",
    "])\n",
    "model3.compile(optimizer='adam',\n",
    "              loss=tf.keras.losses.SparseCategoricalCrossentropy(from_logits=True),\n",
    "              metrics=['accuracy'])\n",
    "#fit the model and count training time\n",
    "start=datetime.now()\n",
    "model3.fit(ss_train, label, epochs=5)\n",
    "end=datetime.now()\n",
    "time3=end-start\n",
    "print('Time3=',time3)"
   ]
  },
  {
   "cell_type": "code",
   "execution_count": 67,
   "metadata": {},
   "outputs": [
    {
     "name": "stdout",
     "output_type": "stream",
     "text": [
      "Train on 42000 samples\n",
      "Epoch 1/5\n",
      "42000/42000 [==============================] - 3s 83us/sample - loss: 1.6613 - accuracy: 0.8051\n",
      "Epoch 2/5\n",
      "42000/42000 [==============================] - 3s 73us/sample - loss: 1.6049 - accuracy: 0.8559\n",
      "Epoch 3/5\n",
      "42000/42000 [==============================] - 3s 76us/sample - loss: 1.5988 - accuracy: 0.8620\n",
      "Epoch 4/5\n",
      "42000/42000 [==============================] - 3s 76us/sample - loss: 1.5655 - accuracy: 0.8954\n",
      "Epoch 5/5\n",
      "42000/42000 [==============================] - 3s 74us/sample - loss: 1.5108 - accuracy: 0.9507\n",
      "Time4= 0:00:16.619186\n"
     ]
    }
   ],
   "source": [
    "#Neural Network: 4 layers 20 node each\n",
    "model4 = keras.Sequential([keras.layers.Dense(128, activation='relu'),\n",
    "                           keras.layers.Dense(20, activation='relu'),\n",
    "                           keras.layers.Dense(20, activation='relu'),\n",
    "                           keras.layers.Dense(20, activation='relu'),\n",
    "                           keras.layers.Dense(20, activation='relu'),\n",
    "                           keras.layers.Dense(10, activation='softmax')\n",
    "])\n",
    "model4.compile(optimizer='adam',\n",
    "              loss=tf.keras.losses.SparseCategoricalCrossentropy(from_logits=True),\n",
    "              metrics=['accuracy'])\n",
    "#fit the model and count training time\n",
    "start=datetime.now()\n",
    "model4.fit(ss_train, label, epochs=5)\n",
    "end=datetime.now()\n",
    "time4=end-start\n",
    "print('Time4=',time4)"
   ]
  },
  {
   "cell_type": "code",
   "execution_count": 69,
   "metadata": {},
   "outputs": [],
   "source": [
    "#now make predictions using normalized testset\n",
    "def prediction (model):\n",
    "    pred=model.predict(ss_test)\n",
    "    result=[]\n",
    "    for i in pred:\n",
    "        result.append(np.argmax(i))\n",
    "    return result\n",
    "\n"
   ]
  },
  {
   "cell_type": "code",
   "execution_count": 70,
   "metadata": {},
   "outputs": [],
   "source": [
    "pred1=prediction(model1)"
   ]
  },
  {
   "cell_type": "code",
   "execution_count": 71,
   "metadata": {},
   "outputs": [],
   "source": [
    "pred2=prediction(model2)\n",
    "pred3=prediction(model3)\n",
    "pred4=prediction(model4)"
   ]
  },
  {
   "cell_type": "code",
   "execution_count": 72,
   "metadata": {},
   "outputs": [],
   "source": [
    "#export\n",
    "for filename, file in zip(['DNN1.csv','DNN2.csv','DNN3.csv','DNN4.csv'],[pred1,pred2,pred3,pred4]):\n",
    "    np.savetxt(filename, \n",
    "           np.c_[range(1,len(test)+1),file], \n",
    "           delimiter=',', \n",
    "           header = 'ImageId,Label', \n",
    "           comments = '', \n",
    "           fmt='%d')\n"
   ]
  },
  {
   "cell_type": "code",
   "execution_count": 73,
   "metadata": {},
   "outputs": [
    {
     "data": {
      "text/plain": [
       "'\\nScores for \\n1(2*40):0.95071\\n2(2*20):0.95300\\n3(4*40):0.93285\\n4(4*20):0.93585\\n'"
      ]
     },
     "execution_count": 73,
     "metadata": {},
     "output_type": "execute_result"
    }
   ],
   "source": [
    "'''\n",
    "Scores for \n",
    "1(2*40):0.95071\n",
    "2(2*20):0.95300\n",
    "3(4*40):0.93285\n",
    "4(4*20):0.93585\n",
    "'''"
   ]
  },
  {
   "cell_type": "code",
   "execution_count": 3,
   "metadata": {},
   "outputs": [
    {
     "data": {
      "text/html": [
       "<div>\n",
       "<style scoped>\n",
       "    .dataframe tbody tr th:only-of-type {\n",
       "        vertical-align: middle;\n",
       "    }\n",
       "\n",
       "    .dataframe tbody tr th {\n",
       "        vertical-align: top;\n",
       "    }\n",
       "\n",
       "    .dataframe thead th {\n",
       "        text-align: right;\n",
       "    }\n",
       "</style>\n",
       "<table border=\"1\" class=\"dataframe\">\n",
       "  <thead>\n",
       "    <tr style=\"text-align: right;\">\n",
       "      <th></th>\n",
       "      <th>Hidden Layers</th>\n",
       "      <th>Nodes per layer</th>\n",
       "      <th>Training time</th>\n",
       "      <th>Accuracy(train)</th>\n",
       "      <th>Accuracy(test)</th>\n",
       "    </tr>\n",
       "  </thead>\n",
       "  <tbody>\n",
       "    <tr>\n",
       "      <th>0</th>\n",
       "      <td>2</td>\n",
       "      <td>40</td>\n",
       "      <td>16.19</td>\n",
       "      <td>0.9607</td>\n",
       "      <td>0.9507</td>\n",
       "    </tr>\n",
       "    <tr>\n",
       "      <th>1</th>\n",
       "      <td>2</td>\n",
       "      <td>20</td>\n",
       "      <td>15.58</td>\n",
       "      <td>0.9636</td>\n",
       "      <td>0.9530</td>\n",
       "    </tr>\n",
       "    <tr>\n",
       "      <th>2</th>\n",
       "      <td>4</td>\n",
       "      <td>40</td>\n",
       "      <td>16.98</td>\n",
       "      <td>0.9510</td>\n",
       "      <td>0.9329</td>\n",
       "    </tr>\n",
       "    <tr>\n",
       "      <th>3</th>\n",
       "      <td>4</td>\n",
       "      <td>20</td>\n",
       "      <td>16.62</td>\n",
       "      <td>0.9507</td>\n",
       "      <td>0.9359</td>\n",
       "    </tr>\n",
       "  </tbody>\n",
       "</table>\n",
       "</div>"
      ],
      "text/plain": [
       "   Hidden Layers  Nodes per layer  Training time  Accuracy(train)  \\\n",
       "0              2               40          16.19           0.9607   \n",
       "1              2               20          15.58           0.9636   \n",
       "2              4               40          16.98           0.9510   \n",
       "3              4               20          16.62           0.9507   \n",
       "\n",
       "   Accuracy(test)  \n",
       "0          0.9507  \n",
       "1          0.9530  \n",
       "2          0.9329  \n",
       "3          0.9359  "
      ]
     },
     "execution_count": 3,
     "metadata": {},
     "output_type": "execute_result"
    }
   ],
   "source": [
    "summary = pd.read_csv('summary.csv')\n",
    "summary"
   ]
  },
  {
   "cell_type": "code",
   "execution_count": null,
   "metadata": {},
   "outputs": [],
   "source": []
  }
 ],
 "metadata": {
  "kernelspec": {
   "display_name": "Python 3",
   "language": "python",
   "name": "python3"
  },
  "language_info": {
   "codemirror_mode": {
    "name": "ipython",
    "version": 3
   },
   "file_extension": ".py",
   "mimetype": "text/x-python",
   "name": "python",
   "nbconvert_exporter": "python",
   "pygments_lexer": "ipython3",
   "version": "3.7.3"
  }
 },
 "nbformat": 4,
 "nbformat_minor": 4
}
